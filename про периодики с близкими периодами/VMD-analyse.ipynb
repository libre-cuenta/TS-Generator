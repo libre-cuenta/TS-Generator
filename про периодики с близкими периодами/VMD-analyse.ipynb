{
 "cells": [
  {
   "cell_type": "code",
   "execution_count": 6,
   "metadata": {},
   "outputs": [],
   "source": [
    "import numpy as np\n",
    "import pandas as pd\n",
    "import matplotlib.pyplot as plt\n",
    "import math\n",
    "from scipy.interpolate import CubicSpline\n",
    "from itertools import product\n",
    "from sklearn.metrics import r2_score\n",
    "import csv\n",
    "from vmd import VMD"
   ]
  },
  {
   "cell_type": "code",
   "execution_count": 7,
   "metadata": {},
   "outputs": [],
   "source": [
    "# adjusted R-squared\n",
    "def r2_score_adjusted(y, y_pred, featurecount):\n",
    "    n = len(y)\n",
    "    return 1 - (1-r2_score(y, y_pred)) * (n-1)/(n-featurecount-1)\n",
    "\n",
    "# AIC\n",
    "def calculate_aic(y, y_pred, k):\n",
    "    sse = np.sum((y - y_pred) ** 2)\n",
    "    n = len(y)\n",
    "    aic = n * np.log(sse / n) + 2 * k\n",
    "    return aic\n",
    "\n",
    "# BIC\n",
    "def calculate_bic(y, y_pred, k):\n",
    "    sse = np.sum((y - y_pred) ** 2)\n",
    "    n = len(y)\n",
    "    bic = n * np.log(sse / n) + k * np.log(n)\n",
    "    return bic"
   ]
  },
  {
   "cell_type": "markdown",
   "metadata": {},
   "source": [
    "# импорт временного ряда"
   ]
  },
  {
   "cell_type": "code",
   "execution_count": 8,
   "metadata": {},
   "outputs": [],
   "source": [
    "# linux path\n",
    "path1 = './'\n",
    "path2 = '/'\n",
    "\n",
    "# windows path\n",
    "# path1 = '.\\\\'\n",
    "# path2 = '\\\\'"
   ]
  },
  {
   "cell_type": "code",
   "execution_count": 9,
   "metadata": {},
   "outputs": [],
   "source": [
    "seasonsTS1 = (\"s2\", \"s6\", \"s13\")\n",
    "seasonsTS2 = (\"s11\", \"s12\")\n",
    "trendsTS = (\"t6\", \"t6\", \"t6\", \"t6\", \"t6\")\n",
    "noisesTS = (\"n1\", \"n1\", \"n1\", \"n1\", \"n1\")\n",
    "\n",
    "cases = (\"t6_n1_s2\", \"t6_n1_s6\", \"t6_n1_s13\", \"t6_n1_s2_s11\", \"t6_n1_s2_s12\")"
   ]
  },
  {
   "cell_type": "code",
   "execution_count": null,
   "metadata": {},
   "outputs": [],
   "source": [
    "Trend = list()\n",
    "for trend_i in trendsTS:\n",
    "    t = pd.read_csv(f\"{path1}Components{path2}{trend_i}.csv\", decimal=',')\n",
    "    trend = pd.DataFrame(t, dtype=float)\n",
    "    Trend.append(trend['Value'])\n",
    "Component_of_TS = Trend[::]\n",
    "Component_name = \"Trend\"\n",
    "range_of_imfs = range(5)\n",
    "\n",
    "Noise = list()\n",
    "for noise_i in noisesTS:\n",
    "    n = pd.read_csv(f\"{path1}Components{path2}{noise_i}.csv\", decimal=',')\n",
    "    noise = pd.DataFrame(n, dtype=float)\n",
    "    Noise.append(noise['Value'])\n",
    "Component_of_TS = Noise[::]\n",
    "Component_name = \"Noise\"\n",
    "range_of_imfs = range(10, 7, -1)\n",
    "\n",
    "Season = list()\n",
    "for season_i in seasonsTS1:\n",
    "    s = pd.read_csv(f\"{path1}Components{path2}{season_i}.csv\", decimal=',')\n",
    "    season = pd.DataFrame(s, dtype=float)\n",
    "    Season.append(season['Value'])\n",
    "\n",
    "s2 = pd.read_csv(f\"{path1}Components{path2}s2.csv\", decimal=',')\n",
    "season2 = pd.DataFrame(s2, dtype=float)\n",
    "for season_i in seasonsTS2:\n",
    "    s = pd.read_csv(f\"{path1}Components{path2}{season_i}.csv\", decimal=',')\n",
    "    season = pd.DataFrame(s, dtype=float)\n",
    "    Season.append(season2['Value']+season['Value'])\n",
    "Component_of_TS = Season[::]\n",
    "Component_name = \"Season\"\n",
    "range_of_imfs = range(2,7)\n"
   ]
  },
  {
   "cell_type": "code",
   "execution_count": 13,
   "metadata": {},
   "outputs": [],
   "source": [
    "index = list()\n",
    "TS = list()\n",
    "\n",
    "data = pd.read_csv(f\"{path1}Cases{path2}{cases[0]}.csv\", decimal=',')\n",
    "df = pd.DataFrame(data, dtype=float)\n",
    "index = df.index\n",
    "\n",
    "for case_i in cases:\n",
    "    data = pd.read_csv(f\"{path1}Cases{path2}{case_i}.csv\", decimal=',')\n",
    "    df = pd.DataFrame(data, dtype=float)\n",
    "    TS.append(df.values)\n"
   ]
  },
  {
   "cell_type": "markdown",
   "metadata": {},
   "source": [
    "# тестовый анализ"
   ]
  },
  {
   "cell_type": "code",
   "execution_count": null,
   "metadata": {},
   "outputs": [],
   "source": [
    "alpha = (1000, 2000)\n",
    "init = 1\n",
    "DC = (False, True)\n",
    "K = (5, 7)\n",
    "tau = 0            #BY DEFAULT  \n",
    "tol = 1e-6         #BY DEFAULT\n",
    "\n",
    "u, u_hat, omega = VMD(TS[0], alpha[0], tau, K[0], DC[1], init, tol)\n",
    "\n",
    "featurecount = 6"
   ]
  },
  {
   "cell_type": "code",
   "execution_count": null,
   "metadata": {},
   "outputs": [],
   "source": [
    "best_metriks = {\"Time Series\": f\"TS0\", \"R2\": -np.inf}\n",
    "best_r2_params = {\"Time Series\": f\"TS0\", \"Metric\": \"R2\", \"alpha\": 0, \"tau\": tau, \"K\": 3, \"DC\": False, \"init\": 0, \"tol\": tol, \"IMFs\" : \"1\"}\n"
   ]
  },
  {
   "cell_type": "code",
   "execution_count": null,
   "metadata": {},
   "outputs": [],
   "source": [
    "TS[0]"
   ]
  },
  {
   "cell_type": "code",
   "execution_count": null,
   "metadata": {},
   "outputs": [],
   "source": [
    "np.shape(Trend)"
   ]
  },
  {
   "cell_type": "code",
   "execution_count": null,
   "metadata": {},
   "outputs": [],
   "source": [
    "np.shape(TS)"
   ]
  },
  {
   "cell_type": "code",
   "execution_count": null,
   "metadata": {},
   "outputs": [],
   "source": [
    "r2_list = list()\n",
    "\n",
    "for params_set in list(product(alpha, K, DC)):\n",
    "    u, u_hat, omega = VMD(TS[0], params_set[0], tau, params_set[1], params_set[2], init, tol)\n",
    "    # best_params = [{\"Time Series\": f\"t{ts_i+1}\" ,\"alpha\": params_set[0], \"tau\": tau, \"K\": params_set[1], \"DC\": params_set[2], \"init\": params_set[3], \"tol\": tol}]\n",
    "    \n",
    "    k_i = params_set[1]\n",
    "    r2 = list()\n",
    "    sum_of_imfs = 0\n",
    "    for i_imfs in range(k_i):\n",
    "        sum_of_imfs += u[i_imfs].T\n",
    "\n",
    "        r2.append(r2_score(Trend[0], sum_of_imfs))\n",
    "\n",
    "\n",
    "    max_r2 = np.max(r2)\n",
    "    argmax_r2 = np.argmax(r2)\n",
    "\n",
    "    r2_list.append([max_r2, argmax_r2])\n",
    "\n",
    "r2_list = np.transpose(r2_list)\n",
    "max_r2 = np.max(r2_list[0])\n",
    "argmax_r2 = np.argmax(r2_list[0])\n",
    "i_imfs = int(r2_list[1][argmax_r2])\n",
    "if (max_r2 > best_metriks[\"R2\"]):\n",
    "    best_metriks[\"R2\"] = max_r2\n",
    "\n",
    "    best_r2_params[\"alpha\"] = params_set[0]\n",
    "    best_r2_params[\"K\"] = params_set[1]\n",
    "    best_r2_params[\"DC\"] = params_set[2]\n",
    "    best_r2_params[\"IMFs\"] = f'1 - {i_imfs+1}'\n"
   ]
  },
  {
   "cell_type": "code",
   "execution_count": null,
   "metadata": {},
   "outputs": [],
   "source": [
    "best_metriks"
   ]
  },
  {
   "cell_type": "code",
   "execution_count": null,
   "metadata": {},
   "outputs": [],
   "source": [
    "best_r2_params"
   ]
  },
  {
   "cell_type": "code",
   "execution_count": null,
   "metadata": {},
   "outputs": [],
   "source": [
    "best_metriks"
   ]
  },
  {
   "cell_type": "code",
   "execution_count": null,
   "metadata": {},
   "outputs": [],
   "source": [
    "best_r2_params"
   ]
  },
  {
   "cell_type": "code",
   "execution_count": null,
   "metadata": {},
   "outputs": [],
   "source": [
    "plt.figure(figsize=(15,12))\n",
    "plt.subplot(2,1,1)\n",
    "plt.plot(index[0], TS[0])\n",
    "plt.title('Time Series')\n",
    "plt.xlabel('X')"
   ]
  },
  {
   "cell_type": "code",
   "execution_count": null,
   "metadata": {},
   "outputs": [],
   "source": [
    "plt.figure(figsize=(15,12))\n",
    "plt.subplot(2,1,1)\n",
    "plt.plot(index[0], Trend[0])\n",
    "plt.title('Trend')\n",
    "plt.xlabel('X')"
   ]
  },
  {
   "cell_type": "code",
   "execution_count": null,
   "metadata": {},
   "outputs": [],
   "source": [
    "featurecount"
   ]
  },
  {
   "cell_type": "code",
   "execution_count": null,
   "metadata": {},
   "outputs": [],
   "source": [
    "r2_score(Trend[0][\"Value\"], u[0].T)"
   ]
  },
  {
   "cell_type": "code",
   "execution_count": null,
   "metadata": {},
   "outputs": [],
   "source": [
    "plt.figure(figsize=(15,12))\n",
    "plt.subplot(2,1,1)\n",
    "plt.plot(index[0], Season)\n",
    "plt.title('Season')\n",
    "plt.xlabel('X')"
   ]
  },
  {
   "cell_type": "code",
   "execution_count": null,
   "metadata": {},
   "outputs": [],
   "source": [
    "# plt.figure(figsize=(15,12))\n",
    "# plt.subplot(2,1,1)\n",
    "# plt.plot(index[0], TS[0])\n",
    "\n",
    "fig, axs = plt.subplots(figsize=(12,10), nrows=K)\n",
    "\n",
    "# axs[0].set(xlabel = 'date', ylabel='C')\n",
    "# plt.subplot(2,2,1)\n",
    "for i in range(K):\n",
    "    axs[i].plot(index[0], u[i].T)\n",
    "    axs[i].set_title(f'IMF {i+1}')\n",
    "\n",
    "plt.title('IMF')\n",
    "plt.xlabel('X')\n",
    "plt.ylabel('Y')\n",
    "# plt.legend(['Оригинальный сигнал', 'Нижняя огибающая', 'Верхняя огибающая', 'Средняя огибающих'])\n",
    "\n",
    "plt.tight_layout()"
   ]
  },
  {
   "cell_type": "code",
   "execution_count": null,
   "metadata": {},
   "outputs": [],
   "source": [
    "# plt.figure(figsize=(15,12))\n",
    "# plt.subplot(2,1,1)\n",
    "# plt.plot(index[0], TS[0])\n",
    "\n",
    "fig, axs = plt.subplots(figsize=(12,10), nrows=K-1)\n",
    "\n",
    "# axs[0].set(xlabel = 'date', ylabel='C')\n",
    "# plt.subplot(2,2,1)\n",
    "for i in range((K-1)):\n",
    "    axs[i].plot(index[0], u[i].T + u[i+1].T)\n",
    "    axs[i].set_title(f'IMF {i+1} + IMF {i+2}')\n",
    "\n",
    "# plt.title('IMF')\n",
    "plt.xlabel('X')\n",
    "plt.ylabel('Y')\n",
    "# plt.legend(['Оригинальный сигнал', 'Нижняя огибающая', 'Верхняя огибающая', 'Средняя огибающих'])\n",
    "\n",
    "plt.tight_layout()"
   ]
  },
  {
   "cell_type": "markdown",
   "metadata": {},
   "source": [
    "# декомпозиция временного ряда"
   ]
  },
  {
   "cell_type": "code",
   "execution_count": null,
   "metadata": {},
   "outputs": [],
   "source": [
    "alpha = (0, 500, 1000, 5000, 10000, 20000)\n",
    "init = (0, 1, 2)\n",
    "DC = (False, True)\n",
    "K = 10\n",
    "\n",
    "tau = 0            #BY DEFAULT  \n",
    "tol = 1e-6         #BY DEFAULT\n",
    "\n",
    "featurecount = 6"
   ]
  },
  {
   "cell_type": "code",
   "execution_count": null,
   "metadata": {},
   "outputs": [],
   "source": [
    "best_metriks = np.zeros(len(TS), dtype=dict)\n",
    "\n",
    "best_r2_params = np.zeros(len(TS), dtype=dict)\n",
    "best_r2_adj_params = np.zeros(len(TS), dtype=dict)\n",
    "best_aic_params = np.zeros(len(TS), dtype=dict)\n",
    "best_bic_params = np.zeros(len(TS), dtype=dict)\n",
    "\n",
    "for i in range(len(TS)):\n",
    "    best_metriks[i] = {\"Time Series\": f\"TS{i+1}\", \"R2\": -np.inf, \"R2_Adj\": -np.inf, \"AIC\" : np.inf, \"BIC\": np.inf}\n",
    "    \n",
    "    best_r2_params[i] = ({\"Time Series\": f\"TS{i+1}\", \"Metric\": \"R2\", \"alpha\": 0, \"tau\": tau, \"K\": 3, \"DC\": False, \"init\": 0, \"IMFs\" : \"1\"}) \n",
    "    best_r2_adj_params[i] = ({\"Time Series\": f\"TS{i+1}\", \"Metric\": \"R2_Adj\", \"alpha\": 0, \"tau\": tau, \"K\": 3, \"DC\": False, \"init\": 0, \"IMFs\" : \"1\"}) \n",
    "    best_aic_params[i] = ({\"Time Series\": f\"TS{i+1}\", \"Metric\": \"AIC\", \"alpha\": 0, \"tau\": tau, \"K\": 3, \"DC\": False, \"init\": 0, \"IMFs\" : \"1\"}) \n",
    "    best_bic_params[i] = ({\"Time Series\": f\"TS{i+1}\", \"Metric\": \"BIC\", \"alpha\": 0, \"tau\": tau, \"K\": 3, \"DC\": False, \"init\": 0, \"IMFs\" : \"1\"}) \n",
    "\n"
   ]
  },
  {
   "cell_type": "markdown",
   "metadata": {},
   "source": [
    "search of alpha"
   ]
  },
  {
   "cell_type": "code",
   "execution_count": null,
   "metadata": {},
   "outputs": [
    {
     "name": "stderr",
     "output_type": "stream",
     "text": [
      "/home/george/VS Code/TS-Generator/про периодики с близкими периодами/vmd.py:67: RuntimeWarning: invalid value encountered in scalar divide\n",
      "  return np.dot(freqs[T//2:T],(abs(u_hat_plus[n+1, T//2:T, k])**2))/np.sum(abs(u_hat_plus[n+1,T//2:T,k])**2)\n",
      "/home/george/VS Code/TS-Generator/про периодики с близкими периодами/vmd.py:64: RuntimeWarning: invalid value encountered in divide\n",
      "  return (f_hat_plus - sum_uk - lambda_hat[n,:]/2)/(1.+Alpha[k]*(freqs - omega_plus[n,k])**2)\n",
      "/home/george/VS Code/TS-Generator/про периодики с близкими периодами/vmd.py:67: RuntimeWarning: invalid value encountered in scalar divide\n",
      "  return np.dot(freqs[T//2:T],(abs(u_hat_plus[n+1, T//2:T, k])**2))/np.sum(abs(u_hat_plus[n+1,T//2:T,k])**2)\n",
      "/home/george/VS Code/TS-Generator/про периодики с близкими периодами/vmd.py:64: RuntimeWarning: invalid value encountered in divide\n",
      "  return (f_hat_plus - sum_uk - lambda_hat[n,:]/2)/(1.+Alpha[k]*(freqs - omega_plus[n,k])**2)\n",
      "/home/george/VS Code/TS-Generator/про периодики с близкими периодами/vmd.py:67: RuntimeWarning: invalid value encountered in scalar divide\n",
      "  return np.dot(freqs[T//2:T],(abs(u_hat_plus[n+1, T//2:T, k])**2))/np.sum(abs(u_hat_plus[n+1,T//2:T,k])**2)\n",
      "/home/george/VS Code/TS-Generator/про периодики с близкими периодами/vmd.py:64: RuntimeWarning: invalid value encountered in divide\n",
      "  return (f_hat_plus - sum_uk - lambda_hat[n,:]/2)/(1.+Alpha[k]*(freqs - omega_plus[n,k])**2)\n",
      "/home/george/VS Code/TS-Generator/про периодики с близкими периодами/vmd.py:67: RuntimeWarning: invalid value encountered in scalar divide\n",
      "  return np.dot(freqs[T//2:T],(abs(u_hat_plus[n+1, T//2:T, k])**2))/np.sum(abs(u_hat_plus[n+1,T//2:T,k])**2)\n",
      "/home/george/VS Code/TS-Generator/про периодики с близкими периодами/vmd.py:64: RuntimeWarning: invalid value encountered in divide\n",
      "  return (f_hat_plus - sum_uk - lambda_hat[n,:]/2)/(1.+Alpha[k]*(freqs - omega_plus[n,k])**2)\n",
      "/home/george/VS Code/TS-Generator/про периодики с близкими периодами/vmd.py:67: RuntimeWarning: invalid value encountered in scalar divide\n",
      "  return np.dot(freqs[T//2:T],(abs(u_hat_plus[n+1, T//2:T, k])**2))/np.sum(abs(u_hat_plus[n+1,T//2:T,k])**2)\n",
      "/home/george/VS Code/TS-Generator/про периодики с близкими периодами/vmd.py:64: RuntimeWarning: invalid value encountered in divide\n",
      "  return (f_hat_plus - sum_uk - lambda_hat[n,:]/2)/(1.+Alpha[k]*(freqs - omega_plus[n,k])**2)\n",
      "/home/george/VS Code/TS-Generator/про периодики с близкими периодами/vmd.py:67: RuntimeWarning: invalid value encountered in scalar divide\n",
      "  return np.dot(freqs[T//2:T],(abs(u_hat_plus[n+1, T//2:T, k])**2))/np.sum(abs(u_hat_plus[n+1,T//2:T,k])**2)\n",
      "/home/george/VS Code/TS-Generator/про периодики с близкими периодами/vmd.py:64: RuntimeWarning: invalid value encountered in divide\n",
      "  return (f_hat_plus - sum_uk - lambda_hat[n,:]/2)/(1.+Alpha[k]*(freqs - omega_plus[n,k])**2)\n",
      "/home/george/VS Code/TS-Generator/про периодики с близкими периодами/vmd.py:67: RuntimeWarning: invalid value encountered in scalar divide\n",
      "  return np.dot(freqs[T//2:T],(abs(u_hat_plus[n+1, T//2:T, k])**2))/np.sum(abs(u_hat_plus[n+1,T//2:T,k])**2)\n",
      "/home/george/VS Code/TS-Generator/про периодики с близкими периодами/vmd.py:64: RuntimeWarning: invalid value encountered in divide\n",
      "  return (f_hat_plus - sum_uk - lambda_hat[n,:]/2)/(1.+Alpha[k]*(freqs - omega_plus[n,k])**2)\n",
      "/home/george/VS Code/TS-Generator/про периодики с близкими периодами/vmd.py:67: RuntimeWarning: invalid value encountered in scalar divide\n",
      "  return np.dot(freqs[T//2:T],(abs(u_hat_plus[n+1, T//2:T, k])**2))/np.sum(abs(u_hat_plus[n+1,T//2:T,k])**2)\n",
      "/home/george/VS Code/TS-Generator/про периодики с близкими периодами/vmd.py:64: RuntimeWarning: invalid value encountered in divide\n",
      "  return (f_hat_plus - sum_uk - lambda_hat[n,:]/2)/(1.+Alpha[k]*(freqs - omega_plus[n,k])**2)\n",
      "/home/george/VS Code/TS-Generator/про периодики с близкими периодами/vmd.py:67: RuntimeWarning: invalid value encountered in scalar divide\n",
      "  return np.dot(freqs[T//2:T],(abs(u_hat_plus[n+1, T//2:T, k])**2))/np.sum(abs(u_hat_plus[n+1,T//2:T,k])**2)\n",
      "/home/george/VS Code/TS-Generator/про периодики с близкими периодами/vmd.py:64: RuntimeWarning: invalid value encountered in divide\n",
      "  return (f_hat_plus - sum_uk - lambda_hat[n,:]/2)/(1.+Alpha[k]*(freqs - omega_plus[n,k])**2)\n",
      "/home/george/VS Code/TS-Generator/про периодики с близкими периодами/vmd.py:67: RuntimeWarning: invalid value encountered in scalar divide\n",
      "  return np.dot(freqs[T//2:T],(abs(u_hat_plus[n+1, T//2:T, k])**2))/np.sum(abs(u_hat_plus[n+1,T//2:T,k])**2)\n",
      "/home/george/VS Code/TS-Generator/про периодики с близкими периодами/vmd.py:64: RuntimeWarning: invalid value encountered in divide\n",
      "  return (f_hat_plus - sum_uk - lambda_hat[n,:]/2)/(1.+Alpha[k]*(freqs - omega_plus[n,k])**2)\n",
      "/home/george/VS Code/TS-Generator/про периодики с близкими периодами/vmd.py:67: RuntimeWarning: invalid value encountered in scalar divide\n",
      "  return np.dot(freqs[T//2:T],(abs(u_hat_plus[n+1, T//2:T, k])**2))/np.sum(abs(u_hat_plus[n+1,T//2:T,k])**2)\n",
      "/home/george/VS Code/TS-Generator/про периодики с близкими периодами/vmd.py:64: RuntimeWarning: invalid value encountered in divide\n",
      "  return (f_hat_plus - sum_uk - lambda_hat[n,:]/2)/(1.+Alpha[k]*(freqs - omega_plus[n,k])**2)\n",
      "/home/george/VS Code/TS-Generator/про периодики с близкими периодами/vmd.py:67: RuntimeWarning: invalid value encountered in scalar divide\n",
      "  return np.dot(freqs[T//2:T],(abs(u_hat_plus[n+1, T//2:T, k])**2))/np.sum(abs(u_hat_plus[n+1,T//2:T,k])**2)\n",
      "/home/george/VS Code/TS-Generator/про периодики с близкими периодами/vmd.py:64: RuntimeWarning: invalid value encountered in divide\n",
      "  return (f_hat_plus - sum_uk - lambda_hat[n,:]/2)/(1.+Alpha[k]*(freqs - omega_plus[n,k])**2)\n",
      "/home/george/VS Code/TS-Generator/про периодики с близкими периодами/vmd.py:67: RuntimeWarning: invalid value encountered in scalar divide\n",
      "  return np.dot(freqs[T//2:T],(abs(u_hat_plus[n+1, T//2:T, k])**2))/np.sum(abs(u_hat_plus[n+1,T//2:T,k])**2)\n",
      "/home/george/VS Code/TS-Generator/про периодики с близкими периодами/vmd.py:64: RuntimeWarning: invalid value encountered in divide\n",
      "  return (f_hat_plus - sum_uk - lambda_hat[n,:]/2)/(1.+Alpha[k]*(freqs - omega_plus[n,k])**2)\n",
      "/home/george/VS Code/TS-Generator/про периодики с близкими периодами/vmd.py:67: RuntimeWarning: invalid value encountered in scalar divide\n",
      "  return np.dot(freqs[T//2:T],(abs(u_hat_plus[n+1, T//2:T, k])**2))/np.sum(abs(u_hat_plus[n+1,T//2:T,k])**2)\n",
      "/home/george/VS Code/TS-Generator/про периодики с близкими периодами/vmd.py:64: RuntimeWarning: invalid value encountered in divide\n",
      "  return (f_hat_plus - sum_uk - lambda_hat[n,:]/2)/(1.+Alpha[k]*(freqs - omega_plus[n,k])**2)\n",
      "/home/george/VS Code/TS-Generator/про периодики с близкими периодами/vmd.py:67: RuntimeWarning: invalid value encountered in scalar divide\n",
      "  return np.dot(freqs[T//2:T],(abs(u_hat_plus[n+1, T//2:T, k])**2))/np.sum(abs(u_hat_plus[n+1,T//2:T,k])**2)\n",
      "/home/george/VS Code/TS-Generator/про периодики с близкими периодами/vmd.py:64: RuntimeWarning: invalid value encountered in divide\n",
      "  return (f_hat_plus - sum_uk - lambda_hat[n,:]/2)/(1.+Alpha[k]*(freqs - omega_plus[n,k])**2)\n",
      "/home/george/VS Code/TS-Generator/про периодики с близкими периодами/vmd.py:67: RuntimeWarning: invalid value encountered in scalar divide\n",
      "  return np.dot(freqs[T//2:T],(abs(u_hat_plus[n+1, T//2:T, k])**2))/np.sum(abs(u_hat_plus[n+1,T//2:T,k])**2)\n",
      "/home/george/VS Code/TS-Generator/про периодики с близкими периодами/vmd.py:64: RuntimeWarning: invalid value encountered in divide\n",
      "  return (f_hat_plus - sum_uk - lambda_hat[n,:]/2)/(1.+Alpha[k]*(freqs - omega_plus[n,k])**2)\n",
      "/home/george/VS Code/TS-Generator/про периодики с близкими периодами/vmd.py:67: RuntimeWarning: invalid value encountered in scalar divide\n",
      "  return np.dot(freqs[T//2:T],(abs(u_hat_plus[n+1, T//2:T, k])**2))/np.sum(abs(u_hat_plus[n+1,T//2:T,k])**2)\n",
      "/home/george/VS Code/TS-Generator/про периодики с близкими периодами/vmd.py:64: RuntimeWarning: invalid value encountered in divide\n",
      "  return (f_hat_plus - sum_uk - lambda_hat[n,:]/2)/(1.+Alpha[k]*(freqs - omega_plus[n,k])**2)\n",
      "/home/george/VS Code/TS-Generator/про периодики с близкими периодами/vmd.py:67: RuntimeWarning: invalid value encountered in scalar divide\n",
      "  return np.dot(freqs[T//2:T],(abs(u_hat_plus[n+1, T//2:T, k])**2))/np.sum(abs(u_hat_plus[n+1,T//2:T,k])**2)\n",
      "/home/george/VS Code/TS-Generator/про периодики с близкими периодами/vmd.py:64: RuntimeWarning: invalid value encountered in divide\n",
      "  return (f_hat_plus - sum_uk - lambda_hat[n,:]/2)/(1.+Alpha[k]*(freqs - omega_plus[n,k])**2)\n"
     ]
    }
   ],
   "source": [
    "# для всех лчм\n",
    "for ts_i in range(len(TS)):\n",
    "\n",
    "    j=0\n",
    "    r2_list = np.zeros((len(alpha), 2), dtype=float)\n",
    "    r2_adj_list = np.zeros((len(alpha), 2), dtype=float)\n",
    "    aic_list = np.zeros((len(alpha), 2), dtype=float)\n",
    "    bic_list = np.zeros((len(alpha), 2), dtype=float)\n",
    "    # для всех наборов параметров\n",
    "    for alpha_i in alpha:\n",
    "        u, u_hat, omega = VMD(TS[ts_i], alpha_i, tau, K, DC, init, tol)\n",
    "        \n",
    "        r2 = list()\n",
    "        r2_adj = list()\n",
    "        aic = list()\n",
    "        bic = list()\n",
    "        sum_of_imfs = 0\n",
    "        for i_imfs in range_of_imfs:\n",
    "            sum_of_imfs += u[i_imfs].T\n",
    "\n",
    "            r2.append(r2_score(Component_of_TS, sum_of_imfs))\n",
    "            r2_adj.append(r2_score_adjusted(Component_of_TS, sum_of_imfs, featurecount))\n",
    "            aic.append(calculate_aic(Component_of_TS, sum_of_imfs, featurecount))\n",
    "            bic.append(calculate_bic(Component_of_TS, sum_of_imfs, featurecount))\n",
    "\n",
    "        r2_list[j] = [np.max(r2), np.argmax(r2)]\n",
    "        r2_adj_list[j] = [np.max(r2_adj), np.argmax(r2_adj)]\n",
    "        aic_list[j] = [np.min(aic), np.argmin(aic)]\n",
    "        bic_list[j] = [np.min(bic), np.argmin(bic)]\n",
    "\n",
    "        j+=1\n",
    "\n",
    "    r2_list = np.transpose(r2_list)\n",
    "    max_r2 = np.max(r2_list[0])\n",
    "    argmax_r2 = np.argmax(r2_list[0])\n",
    "    i_imfs = int(r2_list[1][argmax_r2])\n",
    "    if (max_r2 > best_metriks[ts_i][\"R2\"]):\n",
    "        best_metriks[ts_i][\"R2\"] = max_r2\n",
    "        best_r2_params[ts_i][\"alpha\"] = alpha[argmax_r2]\n",
    "\n",
    "    r2_adj_list = np.transpose(r2_adj_list)\n",
    "    max_r2_adj = np.max(r2_adj_list[0])\n",
    "    argmax_r2_adj = np.argmax(r2_adj_list[0])\n",
    "    i_imfs = int(r2_adj_list[1][argmax_r2_adj])\n",
    "    if (max_r2_adj > best_metriks[ts_i][\"R2_Adj\"]):\n",
    "        best_metriks[ts_i][\"R2_Adj\"] = max_r2_adj\n",
    "        best_r2_adj_params[ts_i][\"alpha\"] = alpha[argmax_r2_adj]\n",
    "\n",
    "    aic_list = np.transpose(aic_list)\n",
    "    min_aic = np.min(aic_list[0])\n",
    "    argmin_aic = np.argmin(aic_list[0])\n",
    "    i_imfs = int(aic_list[1][argmin_aic])\n",
    "    if (min_aic < best_metriks[ts_i][\"AIC\"]):\n",
    "        best_metriks[ts_i][\"AIC\"] = min_aic\n",
    "        best_aic_params[ts_i][\"alpha\"] = alpha[argmin_aic]\n",
    "\n",
    "    bic_list = np.transpose(bic_list)\n",
    "    min_bic = np.min(bic_list[0])\n",
    "    argmin_bic = np.argmin(bic_list[0])\n",
    "    i_imfs = int(bic_list[1][argmin_bic])\n",
    "    if (min_bic < best_metriks[ts_i][\"BIC\"]):\n",
    "        best_metriks[ts_i][\"BIC\"] = min_bic\n",
    "        best_bic_params[ts_i][\"alpha\"] = alpha[argmin_bic]\n"
   ]
  },
  {
   "cell_type": "code",
   "execution_count": null,
   "metadata": {},
   "outputs": [],
   "source": []
  },
  {
   "cell_type": "code",
   "execution_count": null,
   "metadata": {},
   "outputs": [],
   "source": []
  },
  {
   "cell_type": "markdown",
   "metadata": {},
   "source": [
    "# метрики точности и параметры с выводом"
   ]
  },
  {
   "cell_type": "code",
   "execution_count": null,
   "metadata": {},
   "outputs": [],
   "source": [
    "filename = f\"{path1}Output{path2}Best_Metriks-{Component_name}.csv\"\n",
    "\n",
    "fields = best_metriks[0].keys()\n",
    "fields = list(fields)\n",
    "\n",
    "with open(filename, mode='w', newline='') as file:\n",
    "    writer = csv.DictWriter(file, fieldnames=fields)\n",
    "    writer.writeheader()  # Write header row\n",
    "    for ts_i in range(len(TS)):\n",
    "        writer.writerows([best_metriks[ts_i]])  # Write data rows"
   ]
  },
  {
   "cell_type": "code",
   "execution_count": null,
   "metadata": {},
   "outputs": [],
   "source": [
    "filename = f\"{path1}Output{path2}Parameters-{Component_name}.csv\"\n",
    "\n",
    "fields = best_r2_params[0].keys()\n",
    "fields = list(fields)\n",
    "\n",
    "with open(filename, mode='w', newline='') as file:\n",
    "    writer = csv.DictWriter(file, fieldnames=fields)\n",
    "    writer.writeheader()  # Write header row\n",
    "    for ts_i in range(len(TS)):\n",
    "        writer.writerows([best_r2_params[ts_i]])  # Write data rows\n",
    "        writer.writerows([best_r2_adj_params[ts_i]])  # Write data rows\n",
    "        writer.writerows([best_aic_params[ts_i]])  # Write data rows\n",
    "        writer.writerows([best_bic_params[ts_i]])  # Write data rows\n",
    "\n"
   ]
  }
 ],
 "metadata": {
  "kernelspec": {
   "display_name": ".venv",
   "language": "python",
   "name": "python3"
  },
  "language_info": {
   "codemirror_mode": {
    "name": "ipython",
    "version": 3
   },
   "file_extension": ".py",
   "mimetype": "text/x-python",
   "name": "python",
   "nbconvert_exporter": "python",
   "pygments_lexer": "ipython3",
   "version": "3.12.3"
  }
 },
 "nbformat": 4,
 "nbformat_minor": 2
}
