{
 "cells": [
  {
   "cell_type": "code",
   "execution_count": 1,
   "metadata": {},
   "outputs": [],
   "source": [
    "import numpy as np\n",
    "import pandas as pd\n",
    "import matplotlib.pyplot as plt\n",
    "import math\n",
    "from scipy.interpolate import CubicSpline\n",
    "from itertools import product\n",
    "from sklearn.metrics import r2_score\n",
    "import csv\n",
    "from vmd import VMD"
   ]
  },
  {
   "cell_type": "code",
   "execution_count": 2,
   "metadata": {},
   "outputs": [],
   "source": [
    "# adjusted R-squared\n",
    "def r2_score_adjusted(y, y_pred, featurecount):\n",
    "    n = len(y)\n",
    "    return 1 - (1-r2_score(y, y_pred)) * (n-1)/(n-featurecount-1)\n",
    "\n",
    "# AIC\n",
    "def calculate_aic(y, y_pred, k):\n",
    "    sse = np.sum((y - y_pred) ** 2)\n",
    "    n = len(y)\n",
    "    aic = n * np.log(sse / n) + 2 * k\n",
    "    return aic\n",
    "\n",
    "# BIC\n",
    "def calculate_bic(y, y_pred, k):\n",
    "    sse = np.sum((y - y_pred) ** 2)\n",
    "    n = len(y)\n",
    "    bic = n * np.log(sse / n) + k * np.log(n)\n",
    "    return bic"
   ]
  },
  {
   "cell_type": "markdown",
   "metadata": {},
   "source": [
    "# импорт временного ряда"
   ]
  },
  {
   "cell_type": "code",
   "execution_count": 3,
   "metadata": {},
   "outputs": [],
   "source": [
    "# linux path\n",
    "# path1 = './'\n",
    "# path2 = '/'\n",
    "\n",
    "# windows path\n",
    "path1 = '.\\\\'\n",
    "path2 = '\\\\'"
   ]
  },
  {
   "cell_type": "code",
   "execution_count": 4,
   "metadata": {},
   "outputs": [],
   "source": [
    "seasonsTS = (\"s7\", \"s9\", \"s8\", \"s9\")\n",
    "\n",
    "cases = (\"t7_n21_s7_s9\", \"t7_n21_s7_s9\", \"t7_n21_s8_s9\", \"t7_n21_s8_s9\")"
   ]
  },
  {
   "cell_type": "code",
   "execution_count": 5,
   "metadata": {},
   "outputs": [],
   "source": [
    "Season = list()\n",
    "for season_i in seasonsTS:\n",
    "    s = pd.read_csv(f\"./Components/{season_i}.csv\", decimal=',')\n",
    "    season = pd.DataFrame(s, dtype=float)\n",
    "    Season.append(season['Value'])\n",
    "Component_of_TS = Season[::]\n",
    "Component_name = \"Season\"\n",
    "range_of_imfs = range(1,8)\n"
   ]
  },
  {
   "cell_type": "code",
   "execution_count": 6,
   "metadata": {},
   "outputs": [],
   "source": [
    "index = list()\n",
    "TS = list()\n",
    "\n",
    "data = pd.read_csv(f\"{path1}Cases{path2}{cases[0]}.csv\", decimal=',')\n",
    "df = pd.DataFrame(data, dtype=float)\n",
    "index = df.index\n",
    "\n",
    "for case_i in cases:\n",
    "    data = pd.read_csv(f\"{path1}Cases{path2}{case_i}.csv\", decimal=',')\n",
    "    df = pd.DataFrame(data, dtype=float)\n",
    "    TS.append(df.values)\n"
   ]
  },
  {
   "cell_type": "markdown",
   "metadata": {},
   "source": [
    "# тестовый анализ"
   ]
  },
  {
   "cell_type": "code",
   "execution_count": 7,
   "metadata": {},
   "outputs": [
    {
     "data": {
      "text/plain": [
       "[1, 2, 3, 4, 5, 6, 7]"
      ]
     },
     "execution_count": 7,
     "metadata": {},
     "output_type": "execute_result"
    }
   ],
   "source": [
    "list(range_of_imfs)"
   ]
  },
  {
   "cell_type": "code",
   "execution_count": 8,
   "metadata": {},
   "outputs": [
    {
     "data": {
      "text/plain": [
       "(4, 1500)"
      ]
     },
     "execution_count": 8,
     "metadata": {},
     "output_type": "execute_result"
    }
   ],
   "source": [
    "np.shape(Component_of_TS)"
   ]
  },
  {
   "cell_type": "code",
   "execution_count": 9,
   "metadata": {},
   "outputs": [
    {
     "data": {
      "text/plain": [
       "1"
      ]
     },
     "execution_count": 9,
     "metadata": {},
     "output_type": "execute_result"
    }
   ],
   "source": [
    "range_of_imfs[0]"
   ]
  },
  {
   "cell_type": "code",
   "execution_count": 10,
   "metadata": {},
   "outputs": [
    {
     "data": {
      "text/plain": [
       "array([[70.15810976],\n",
       "       [73.69767876],\n",
       "       [74.59385009],\n",
       "       ...,\n",
       "       [-5.87675047],\n",
       "       [-5.43221575],\n",
       "       [-4.61858018]], shape=(1500, 1))"
      ]
     },
     "execution_count": 10,
     "metadata": {},
     "output_type": "execute_result"
    }
   ],
   "source": [
    "TS[0]"
   ]
  },
  {
   "cell_type": "code",
   "execution_count": 11,
   "metadata": {},
   "outputs": [
    {
     "data": {
      "text/plain": [
       "(4, 1500, 1)"
      ]
     },
     "execution_count": 11,
     "metadata": {},
     "output_type": "execute_result"
    }
   ],
   "source": [
    "np.shape(TS)"
   ]
  },
  {
   "cell_type": "markdown",
   "metadata": {},
   "source": [
    "# декомпозиция временного ряда"
   ]
  },
  {
   "cell_type": "code",
   "execution_count": 7,
   "metadata": {},
   "outputs": [],
   "source": [
    "alpha = (0, 500, 1000, 2500, 5000, 7500, 10000, 15000, 20000, 25000, 30000, 35000, 40000, 45000, 50000)\n",
    "init = (0, 1, 2)\n",
    "DC = (False, True)\n",
    "K = 10\n",
    "\n",
    "tau = 0            #BY DEFAULT  \n",
    "tol = 1e-6         #BY DEFAULT\n",
    "\n",
    "featurecount = 6"
   ]
  },
  {
   "cell_type": "code",
   "execution_count": 8,
   "metadata": {},
   "outputs": [],
   "source": [
    "best_metriks = np.zeros(len(TS), dtype=dict)\n",
    "\n",
    "best_r2_params = np.zeros(len(TS), dtype=dict)\n",
    "best_r2_adj_params = np.zeros(len(TS), dtype=dict)\n",
    "best_aic_params = np.zeros(len(TS), dtype=dict)\n",
    "best_bic_params = np.zeros(len(TS), dtype=dict)\n",
    "\n",
    "for i in range(len(TS)):\n",
    "    best_metriks[i] = {\"Time Series\": f\"TS{i+1}\", \"Season\": seasonsTS[i], \"R2\": -np.inf, \"R2_Adj\": -np.inf, \"AIC\" : np.inf, \"BIC\": np.inf}\n",
    "    \n",
    "    best_r2_params[i] = ({\"Time Series\": f\"TS{i+1}\", \"Season\": seasonsTS[i], \"Metric\": \"R2\", \"K\": 10, \"alpha\": 0, \"DC\": False, \"init\": 0, \"IMFs\" : \"1\"}) \n",
    "    best_r2_adj_params[i] = ({\"Time Series\": f\"TS{i+1}\", \"Season\": seasonsTS[i], \"Metric\": \"R2_Adj\", \"K\": 10, \"alpha\": 0,  \"DC\": False, \"init\": 0, \"IMFs\" : \"1\"}) \n",
    "    best_aic_params[i] = ({\"Time Series\": f\"TS{i+1}\", \"Season\": seasonsTS[i], \"Metric\": \"AIC\", \"K\": 10, \"alpha\": 0, \"DC\": False, \"init\": 0, \"IMFs\" : \"1\"}) \n",
    "    best_bic_params[i] = ({\"Time Series\": f\"TS{i+1}\", \"Season\": seasonsTS[i], \"Metric\": \"BIC\", \"K\": 10, \"alpha\": 0, \"DC\": False, \"init\": 0, \"IMFs\" : \"1\"}) \n",
    "\n"
   ]
  },
  {
   "cell_type": "code",
   "execution_count": 9,
   "metadata": {},
   "outputs": [],
   "source": [
    "alpha_j = np.zeros(len(alpha)*len(init)*len(DC), dtype=int)\n",
    "init_j = np.zeros(len(alpha)*len(init)*len(DC), dtype=int)\n",
    "DC_j = np.zeros(len(alpha)*len(init)*len(DC), dtype=bool)\n",
    "\n",
    "j = 0\n",
    "for params_set in list(product(alpha, DC, init)):\n",
    "    alpha_j[j] = params_set[0]\n",
    "    DC_j[j] = params_set[1]\n",
    "    init_j[j] = params_set[2]\n",
    "    \n",
    "    j+=1"
   ]
  },
  {
   "cell_type": "code",
   "execution_count": 10,
   "metadata": {},
   "outputs": [
    {
     "name": "stderr",
     "output_type": "stream",
     "text": [
      "c:\\Users\\George\\VS Code Projects\\TS Generator\\сумма периодик\\про периодики с непостоянными амплитудами\\vmd.py:67: RuntimeWarning: invalid value encountered in scalar divide\n",
      "  return np.dot(freqs[T//2:T],(abs(u_hat_plus[n+1, T//2:T, k])**2))/np.sum(abs(u_hat_plus[n+1,T//2:T,k])**2)\n",
      "c:\\Users\\George\\VS Code Projects\\TS Generator\\сумма периодик\\про периодики с непостоянными амплитудами\\vmd.py:64: RuntimeWarning: invalid value encountered in divide\n",
      "  return (f_hat_plus - sum_uk - lambda_hat[n,:]/2)/(1.+Alpha[k]*(freqs - omega_plus[n,k])**2)\n",
      "c:\\Users\\George\\VS Code Projects\\TS Generator\\сумма периодик\\про периодики с непостоянными амплитудами\\vmd.py:67: RuntimeWarning: invalid value encountered in scalar divide\n",
      "  return np.dot(freqs[T//2:T],(abs(u_hat_plus[n+1, T//2:T, k])**2))/np.sum(abs(u_hat_plus[n+1,T//2:T,k])**2)\n",
      "c:\\Users\\George\\VS Code Projects\\TS Generator\\сумма периодик\\про периодики с непостоянными амплитудами\\vmd.py:64: RuntimeWarning: invalid value encountered in divide\n",
      "  return (f_hat_plus - sum_uk - lambda_hat[n,:]/2)/(1.+Alpha[k]*(freqs - omega_plus[n,k])**2)\n",
      "c:\\Users\\George\\VS Code Projects\\TS Generator\\сумма периодик\\про периодики с непостоянными амплитудами\\vmd.py:67: RuntimeWarning: invalid value encountered in scalar divide\n",
      "  return np.dot(freqs[T//2:T],(abs(u_hat_plus[n+1, T//2:T, k])**2))/np.sum(abs(u_hat_plus[n+1,T//2:T,k])**2)\n",
      "c:\\Users\\George\\VS Code Projects\\TS Generator\\сумма периодик\\про периодики с непостоянными амплитудами\\vmd.py:64: RuntimeWarning: invalid value encountered in divide\n",
      "  return (f_hat_plus - sum_uk - lambda_hat[n,:]/2)/(1.+Alpha[k]*(freqs - omega_plus[n,k])**2)\n",
      "c:\\Users\\George\\VS Code Projects\\TS Generator\\сумма периодик\\про периодики с непостоянными амплитудами\\vmd.py:67: RuntimeWarning: invalid value encountered in scalar divide\n",
      "  return np.dot(freqs[T//2:T],(abs(u_hat_plus[n+1, T//2:T, k])**2))/np.sum(abs(u_hat_plus[n+1,T//2:T,k])**2)\n",
      "c:\\Users\\George\\VS Code Projects\\TS Generator\\сумма периодик\\про периодики с непостоянными амплитудами\\vmd.py:64: RuntimeWarning: invalid value encountered in divide\n",
      "  return (f_hat_plus - sum_uk - lambda_hat[n,:]/2)/(1.+Alpha[k]*(freqs - omega_plus[n,k])**2)\n",
      "c:\\Users\\George\\VS Code Projects\\TS Generator\\сумма периодик\\про периодики с непостоянными амплитудами\\vmd.py:67: RuntimeWarning: invalid value encountered in scalar divide\n",
      "  return np.dot(freqs[T//2:T],(abs(u_hat_plus[n+1, T//2:T, k])**2))/np.sum(abs(u_hat_plus[n+1,T//2:T,k])**2)\n",
      "c:\\Users\\George\\VS Code Projects\\TS Generator\\сумма периодик\\про периодики с непостоянными амплитудами\\vmd.py:64: RuntimeWarning: invalid value encountered in divide\n",
      "  return (f_hat_plus - sum_uk - lambda_hat[n,:]/2)/(1.+Alpha[k]*(freqs - omega_plus[n,k])**2)\n",
      "c:\\Users\\George\\VS Code Projects\\TS Generator\\сумма периодик\\про периодики с непостоянными амплитудами\\vmd.py:67: RuntimeWarning: invalid value encountered in scalar divide\n",
      "  return np.dot(freqs[T//2:T],(abs(u_hat_plus[n+1, T//2:T, k])**2))/np.sum(abs(u_hat_plus[n+1,T//2:T,k])**2)\n",
      "c:\\Users\\George\\VS Code Projects\\TS Generator\\сумма периодик\\про периодики с непостоянными амплитудами\\vmd.py:64: RuntimeWarning: invalid value encountered in divide\n",
      "  return (f_hat_plus - sum_uk - lambda_hat[n,:]/2)/(1.+Alpha[k]*(freqs - omega_plus[n,k])**2)\n",
      "c:\\Users\\George\\VS Code Projects\\TS Generator\\сумма периодик\\про периодики с непостоянными амплитудами\\vmd.py:67: RuntimeWarning: invalid value encountered in scalar divide\n",
      "  return np.dot(freqs[T//2:T],(abs(u_hat_plus[n+1, T//2:T, k])**2))/np.sum(abs(u_hat_plus[n+1,T//2:T,k])**2)\n",
      "c:\\Users\\George\\VS Code Projects\\TS Generator\\сумма периодик\\про периодики с непостоянными амплитудами\\vmd.py:64: RuntimeWarning: invalid value encountered in divide\n",
      "  return (f_hat_plus - sum_uk - lambda_hat[n,:]/2)/(1.+Alpha[k]*(freqs - omega_plus[n,k])**2)\n",
      "c:\\Users\\George\\VS Code Projects\\TS Generator\\сумма периодик\\про периодики с непостоянными амплитудами\\vmd.py:67: RuntimeWarning: invalid value encountered in scalar divide\n",
      "  return np.dot(freqs[T//2:T],(abs(u_hat_plus[n+1, T//2:T, k])**2))/np.sum(abs(u_hat_plus[n+1,T//2:T,k])**2)\n",
      "c:\\Users\\George\\VS Code Projects\\TS Generator\\сумма периодик\\про периодики с непостоянными амплитудами\\vmd.py:64: RuntimeWarning: invalid value encountered in divide\n",
      "  return (f_hat_plus - sum_uk - lambda_hat[n,:]/2)/(1.+Alpha[k]*(freqs - omega_plus[n,k])**2)\n",
      "c:\\Users\\George\\VS Code Projects\\TS Generator\\сумма периодик\\про периодики с непостоянными амплитудами\\vmd.py:67: RuntimeWarning: invalid value encountered in scalar divide\n",
      "  return np.dot(freqs[T//2:T],(abs(u_hat_plus[n+1, T//2:T, k])**2))/np.sum(abs(u_hat_plus[n+1,T//2:T,k])**2)\n",
      "c:\\Users\\George\\VS Code Projects\\TS Generator\\сумма периодик\\про периодики с непостоянными амплитудами\\vmd.py:64: RuntimeWarning: invalid value encountered in divide\n",
      "  return (f_hat_plus - sum_uk - lambda_hat[n,:]/2)/(1.+Alpha[k]*(freqs - omega_plus[n,k])**2)\n",
      "c:\\Users\\George\\VS Code Projects\\TS Generator\\сумма периодик\\про периодики с непостоянными амплитудами\\vmd.py:67: RuntimeWarning: invalid value encountered in scalar divide\n",
      "  return np.dot(freqs[T//2:T],(abs(u_hat_plus[n+1, T//2:T, k])**2))/np.sum(abs(u_hat_plus[n+1,T//2:T,k])**2)\n",
      "c:\\Users\\George\\VS Code Projects\\TS Generator\\сумма периодик\\про периодики с непостоянными амплитудами\\vmd.py:64: RuntimeWarning: invalid value encountered in divide\n",
      "  return (f_hat_plus - sum_uk - lambda_hat[n,:]/2)/(1.+Alpha[k]*(freqs - omega_plus[n,k])**2)\n",
      "c:\\Users\\George\\VS Code Projects\\TS Generator\\сумма периодик\\про периодики с непостоянными амплитудами\\vmd.py:67: RuntimeWarning: invalid value encountered in scalar divide\n",
      "  return np.dot(freqs[T//2:T],(abs(u_hat_plus[n+1, T//2:T, k])**2))/np.sum(abs(u_hat_plus[n+1,T//2:T,k])**2)\n",
      "c:\\Users\\George\\VS Code Projects\\TS Generator\\сумма периодик\\про периодики с непостоянными амплитудами\\vmd.py:64: RuntimeWarning: invalid value encountered in divide\n",
      "  return (f_hat_plus - sum_uk - lambda_hat[n,:]/2)/(1.+Alpha[k]*(freqs - omega_plus[n,k])**2)\n",
      "c:\\Users\\George\\VS Code Projects\\TS Generator\\сумма периодик\\про периодики с непостоянными амплитудами\\vmd.py:67: RuntimeWarning: invalid value encountered in scalar divide\n",
      "  return np.dot(freqs[T//2:T],(abs(u_hat_plus[n+1, T//2:T, k])**2))/np.sum(abs(u_hat_plus[n+1,T//2:T,k])**2)\n",
      "c:\\Users\\George\\VS Code Projects\\TS Generator\\сумма периодик\\про периодики с непостоянными амплитудами\\vmd.py:64: RuntimeWarning: invalid value encountered in divide\n",
      "  return (f_hat_plus - sum_uk - lambda_hat[n,:]/2)/(1.+Alpha[k]*(freqs - omega_plus[n,k])**2)\n",
      "c:\\Users\\George\\VS Code Projects\\TS Generator\\сумма периодик\\про периодики с непостоянными амплитудами\\vmd.py:67: RuntimeWarning: invalid value encountered in scalar divide\n",
      "  return np.dot(freqs[T//2:T],(abs(u_hat_plus[n+1, T//2:T, k])**2))/np.sum(abs(u_hat_plus[n+1,T//2:T,k])**2)\n",
      "c:\\Users\\George\\VS Code Projects\\TS Generator\\сумма периодик\\про периодики с непостоянными амплитудами\\vmd.py:64: RuntimeWarning: invalid value encountered in divide\n",
      "  return (f_hat_plus - sum_uk - lambda_hat[n,:]/2)/(1.+Alpha[k]*(freqs - omega_plus[n,k])**2)\n",
      "c:\\Users\\George\\VS Code Projects\\TS Generator\\сумма периодик\\про периодики с непостоянными амплитудами\\vmd.py:67: RuntimeWarning: invalid value encountered in scalar divide\n",
      "  return np.dot(freqs[T//2:T],(abs(u_hat_plus[n+1, T//2:T, k])**2))/np.sum(abs(u_hat_plus[n+1,T//2:T,k])**2)\n",
      "c:\\Users\\George\\VS Code Projects\\TS Generator\\сумма периодик\\про периодики с непостоянными амплитудами\\vmd.py:64: RuntimeWarning: invalid value encountered in divide\n",
      "  return (f_hat_plus - sum_uk - lambda_hat[n,:]/2)/(1.+Alpha[k]*(freqs - omega_plus[n,k])**2)\n",
      "c:\\Users\\George\\VS Code Projects\\TS Generator\\сумма периодик\\про периодики с непостоянными амплитудами\\vmd.py:67: RuntimeWarning: invalid value encountered in scalar divide\n",
      "  return np.dot(freqs[T//2:T],(abs(u_hat_plus[n+1, T//2:T, k])**2))/np.sum(abs(u_hat_plus[n+1,T//2:T,k])**2)\n",
      "c:\\Users\\George\\VS Code Projects\\TS Generator\\сумма периодик\\про периодики с непостоянными амплитудами\\vmd.py:64: RuntimeWarning: invalid value encountered in divide\n",
      "  return (f_hat_plus - sum_uk - lambda_hat[n,:]/2)/(1.+Alpha[k]*(freqs - omega_plus[n,k])**2)\n",
      "c:\\Users\\George\\VS Code Projects\\TS Generator\\сумма периодик\\про периодики с непостоянными амплитудами\\vmd.py:67: RuntimeWarning: invalid value encountered in scalar divide\n",
      "  return np.dot(freqs[T//2:T],(abs(u_hat_plus[n+1, T//2:T, k])**2))/np.sum(abs(u_hat_plus[n+1,T//2:T,k])**2)\n",
      "c:\\Users\\George\\VS Code Projects\\TS Generator\\сумма периодик\\про периодики с непостоянными амплитудами\\vmd.py:64: RuntimeWarning: invalid value encountered in divide\n",
      "  return (f_hat_plus - sum_uk - lambda_hat[n,:]/2)/(1.+Alpha[k]*(freqs - omega_plus[n,k])**2)\n",
      "c:\\Users\\George\\VS Code Projects\\TS Generator\\сумма периодик\\про периодики с непостоянными амплитудами\\vmd.py:67: RuntimeWarning: invalid value encountered in scalar divide\n",
      "  return np.dot(freqs[T//2:T],(abs(u_hat_plus[n+1, T//2:T, k])**2))/np.sum(abs(u_hat_plus[n+1,T//2:T,k])**2)\n",
      "c:\\Users\\George\\VS Code Projects\\TS Generator\\сумма периодик\\про периодики с непостоянными амплитудами\\vmd.py:64: RuntimeWarning: invalid value encountered in divide\n",
      "  return (f_hat_plus - sum_uk - lambda_hat[n,:]/2)/(1.+Alpha[k]*(freqs - omega_plus[n,k])**2)\n",
      "c:\\Users\\George\\VS Code Projects\\TS Generator\\сумма периодик\\про периодики с непостоянными амплитудами\\vmd.py:67: RuntimeWarning: invalid value encountered in scalar divide\n",
      "  return np.dot(freqs[T//2:T],(abs(u_hat_plus[n+1, T//2:T, k])**2))/np.sum(abs(u_hat_plus[n+1,T//2:T,k])**2)\n",
      "c:\\Users\\George\\VS Code Projects\\TS Generator\\сумма периодик\\про периодики с непостоянными амплитудами\\vmd.py:64: RuntimeWarning: invalid value encountered in divide\n",
      "  return (f_hat_plus - sum_uk - lambda_hat[n,:]/2)/(1.+Alpha[k]*(freqs - omega_plus[n,k])**2)\n",
      "c:\\Users\\George\\VS Code Projects\\TS Generator\\сумма периодик\\про периодики с непостоянными амплитудами\\vmd.py:67: RuntimeWarning: invalid value encountered in scalar divide\n",
      "  return np.dot(freqs[T//2:T],(abs(u_hat_plus[n+1, T//2:T, k])**2))/np.sum(abs(u_hat_plus[n+1,T//2:T,k])**2)\n",
      "c:\\Users\\George\\VS Code Projects\\TS Generator\\сумма периодик\\про периодики с непостоянными амплитудами\\vmd.py:64: RuntimeWarning: invalid value encountered in divide\n",
      "  return (f_hat_plus - sum_uk - lambda_hat[n,:]/2)/(1.+Alpha[k]*(freqs - omega_plus[n,k])**2)\n",
      "c:\\Users\\George\\VS Code Projects\\TS Generator\\сумма периодик\\про периодики с непостоянными амплитудами\\vmd.py:67: RuntimeWarning: invalid value encountered in scalar divide\n",
      "  return np.dot(freqs[T//2:T],(abs(u_hat_plus[n+1, T//2:T, k])**2))/np.sum(abs(u_hat_plus[n+1,T//2:T,k])**2)\n",
      "c:\\Users\\George\\VS Code Projects\\TS Generator\\сумма периодик\\про периодики с непостоянными амплитудами\\vmd.py:64: RuntimeWarning: invalid value encountered in divide\n",
      "  return (f_hat_plus - sum_uk - lambda_hat[n,:]/2)/(1.+Alpha[k]*(freqs - omega_plus[n,k])**2)\n",
      "c:\\Users\\George\\VS Code Projects\\TS Generator\\сумма периодик\\про периодики с непостоянными амплитудами\\vmd.py:67: RuntimeWarning: invalid value encountered in scalar divide\n",
      "  return np.dot(freqs[T//2:T],(abs(u_hat_plus[n+1, T//2:T, k])**2))/np.sum(abs(u_hat_plus[n+1,T//2:T,k])**2)\n",
      "c:\\Users\\George\\VS Code Projects\\TS Generator\\сумма периодик\\про периодики с непостоянными амплитудами\\vmd.py:64: RuntimeWarning: invalid value encountered in divide\n",
      "  return (f_hat_plus - sum_uk - lambda_hat[n,:]/2)/(1.+Alpha[k]*(freqs - omega_plus[n,k])**2)\n",
      "c:\\Users\\George\\VS Code Projects\\TS Generator\\сумма периодик\\про периодики с непостоянными амплитудами\\vmd.py:67: RuntimeWarning: invalid value encountered in scalar divide\n",
      "  return np.dot(freqs[T//2:T],(abs(u_hat_plus[n+1, T//2:T, k])**2))/np.sum(abs(u_hat_plus[n+1,T//2:T,k])**2)\n",
      "c:\\Users\\George\\VS Code Projects\\TS Generator\\сумма периодик\\про периодики с непостоянными амплитудами\\vmd.py:64: RuntimeWarning: invalid value encountered in divide\n",
      "  return (f_hat_plus - sum_uk - lambda_hat[n,:]/2)/(1.+Alpha[k]*(freqs - omega_plus[n,k])**2)\n",
      "c:\\Users\\George\\VS Code Projects\\TS Generator\\сумма периодик\\про периодики с непостоянными амплитудами\\vmd.py:67: RuntimeWarning: invalid value encountered in scalar divide\n",
      "  return np.dot(freqs[T//2:T],(abs(u_hat_plus[n+1, T//2:T, k])**2))/np.sum(abs(u_hat_plus[n+1,T//2:T,k])**2)\n",
      "c:\\Users\\George\\VS Code Projects\\TS Generator\\сумма периодик\\про периодики с непостоянными амплитудами\\vmd.py:64: RuntimeWarning: invalid value encountered in divide\n",
      "  return (f_hat_plus - sum_uk - lambda_hat[n,:]/2)/(1.+Alpha[k]*(freqs - omega_plus[n,k])**2)\n",
      "c:\\Users\\George\\VS Code Projects\\TS Generator\\сумма периодик\\про периодики с непостоянными амплитудами\\vmd.py:67: RuntimeWarning: invalid value encountered in scalar divide\n",
      "  return np.dot(freqs[T//2:T],(abs(u_hat_plus[n+1, T//2:T, k])**2))/np.sum(abs(u_hat_plus[n+1,T//2:T,k])**2)\n",
      "c:\\Users\\George\\VS Code Projects\\TS Generator\\сумма периодик\\про периодики с непостоянными амплитудами\\vmd.py:64: RuntimeWarning: invalid value encountered in divide\n",
      "  return (f_hat_plus - sum_uk - lambda_hat[n,:]/2)/(1.+Alpha[k]*(freqs - omega_plus[n,k])**2)\n"
     ]
    }
   ],
   "source": [
    "r2_list = np.zeros((len(TS) ,(len(alpha)*len(DC)*len(init)), 3), dtype=float)\n",
    "r2_adj_list = np.zeros((len(TS) ,(len(alpha)*len(DC)*len(init)), 3), dtype=float)\n",
    "aic_list = np.zeros((len(TS) ,(len(alpha)*len(DC)*len(init)), 3), dtype=float)\n",
    "bic_list = np.zeros((len(TS) ,(len(alpha)*len(DC)*len(init)), 3), dtype=float)\n",
    "\n",
    "# для всех лчм\n",
    "for ts_i in range(len(TS)):\n",
    "\n",
    "    j=0\n",
    "    # для всех наборов параметров\n",
    "    for params_set in list(product(alpha, DC, init)):\n",
    "        u, u_hat, omega = VMD(TS[ts_i], alpha=params_set[0], tau=tau, K=K, DC=params_set[1], init=params_set[2], tol=tol)\n",
    "        \n",
    "        r2 = list()\n",
    "        r2_start_imf = list()\n",
    "        r2_end_imf = list()\n",
    "\n",
    "        r2_adj = list()\n",
    "        r2_adj_start_imf = list()\n",
    "        r2_adj_end_imf = list()\n",
    "\n",
    "        aic = list()\n",
    "        aic_start_imf = list()\n",
    "        aic_end_imf = list()\n",
    "\n",
    "        bic = list()\n",
    "        bic_start_imf = list()\n",
    "        bic_end_imf = list()\n",
    "\n",
    "        for j_imfs in range_of_imfs:\n",
    "            sum_of_imfs = 0\n",
    "            for i_imfs in range(j_imfs, K):\n",
    "                sum_of_imfs += u[i_imfs].T\n",
    "                \n",
    "                # # для шума\n",
    "                # residual = TS[ts_i].T[0] - sum_of_imfs\n",
    "                # r2.append(r2_score(Component_of_TS[ts_i], residual))\n",
    "                # r2_adj.append(r2_score_adjusted(Component_of_TS[ts_i], residual, featurecount))\n",
    "                # aic.append(calculate_aic(Component_of_TS[ts_i], residual, featurecount))\n",
    "                # bic.append(calculate_bic(Component_of_TS[ts_i], residual, featurecount))\n",
    "\n",
    "                # для тренда и сезона\n",
    "                r2.append(r2_score(Component_of_TS[ts_i], sum_of_imfs))\n",
    "                r2_start_imf.append(j_imfs)\n",
    "                r2_end_imf.append(i_imfs)\n",
    "\n",
    "                r2_adj.append(r2_score_adjusted(Component_of_TS[ts_i], sum_of_imfs, featurecount))\n",
    "                r2_adj_start_imf.append(j_imfs)\n",
    "                r2_adj_end_imf.append(i_imfs)\n",
    "\n",
    "                aic.append(calculate_aic(Component_of_TS[ts_i], sum_of_imfs, featurecount))\n",
    "                aic_start_imf.append(j_imfs)\n",
    "                aic_end_imf.append(i_imfs)\n",
    "\n",
    "                bic.append(calculate_bic(Component_of_TS[ts_i], sum_of_imfs, featurecount))\n",
    "                bic_start_imf.append(j_imfs)\n",
    "                bic_end_imf.append(i_imfs)\n",
    "\n",
    "\n",
    "        r2_list[ts_i][j] = [np.max(r2), r2_start_imf[np.argmax(r2)], r2_end_imf[np.argmax(r2)]]\n",
    "        r2_adj_list[ts_i][j] = [np.max(r2_adj), r2_adj_start_imf[np.argmax(r2_adj)], r2_adj_end_imf[np.argmax(r2_adj)]]\n",
    "        aic_list[ts_i][j] = [np.min(aic), aic_start_imf[np.argmin(aic)], aic_end_imf[np.argmin(aic)]]\n",
    "        bic_list[ts_i][j] = [np.min(bic), bic_start_imf[np.argmin(bic)], bic_end_imf[np.argmin(bic)]]\n",
    "\n",
    "        j+=1\n",
    "\n"
   ]
  },
  {
   "cell_type": "code",
   "execution_count": 11,
   "metadata": {},
   "outputs": [],
   "source": [
    "r2 = np.zeros((len(alpha)*len(DC)*len(init), 2), dtype=float)\n",
    "r2_adj = np.zeros((len(alpha)*len(DC)*len(init), 2), dtype=float)\n",
    "aic = np.zeros((len(alpha)*len(DC)*len(init), 2), dtype=float)\n",
    "bic = np.zeros((len(alpha)*len(DC)*len(init), 2), dtype=float)\n",
    "\n",
    "for ts_i in range(len(TS)):\n",
    "\n",
    "    r2 = np.transpose(r2_list[ts_i])\n",
    "    max_r2 = np.max(r2[0])\n",
    "    argmax_r2 = np.argmax(r2[0])\n",
    "    begin_imfs = int(r2[1][argmax_r2])\n",
    "    end_imfs = int(r2[2][argmax_r2])\n",
    "    if (max_r2 > best_metriks[ts_i][\"R2\"]):\n",
    "        best_metriks[ts_i][\"R2\"] = max_r2\n",
    "        \n",
    "        best_r2_params[ts_i][\"alpha\"] = alpha_j[argmax_r2]\n",
    "        best_r2_params[ts_i][\"DC\"] = DC_j[argmax_r2]\n",
    "        best_r2_params[ts_i][\"init\"] = init_j[argmax_r2]\n",
    "        best_r2_params[ts_i][\"IMFs\"] = f'{begin_imfs+1} --- {end_imfs}'\n",
    "\n",
    "\n",
    "    r2_adj = np.transpose(r2_adj_list[ts_i])\n",
    "    max_r2_adj = np.max(r2_adj[0])\n",
    "    argmax_r2_adj = np.argmax(r2_adj[0])\n",
    "    begin_imfs = int(r2_adj[1][argmax_r2_adj])\n",
    "    end_imfs = int(r2_adj[2][argmax_r2_adj])\n",
    "    if (max_r2_adj > best_metriks[ts_i][\"R2_Adj\"]):\n",
    "        best_metriks[ts_i][\"R2_Adj\"] = max_r2_adj\n",
    "\n",
    "        best_r2_adj_params[ts_i][\"alpha\"] = alpha_j[argmax_r2_adj]\n",
    "        best_r2_adj_params[ts_i][\"DC\"] = DC_j[argmax_r2_adj]\n",
    "        best_r2_adj_params[ts_i][\"init\"] = init_j[argmax_r2_adj]\n",
    "        best_r2_adj_params[ts_i][\"IMFs\"] = f'{begin_imfs+1} --- {end_imfs}'\n",
    "\n",
    "\n",
    "    aic = np.transpose(aic_list[ts_i])\n",
    "    min_aic = np.min(aic[0])\n",
    "    argmin_aic = np.argmin(aic[0])\n",
    "    begin_imfs = int(aic[1][argmin_aic])\n",
    "    end_imfs = int(aic[2][argmin_aic])\n",
    "    if (min_aic < best_metriks[ts_i][\"AIC\"]):\n",
    "        best_metriks[ts_i][\"AIC\"] = min_aic\n",
    "\n",
    "        best_aic_params[ts_i][\"alpha\"] = alpha_j[argmin_aic]\n",
    "        best_aic_params[ts_i][\"DC\"] = DC_j[argmin_aic]\n",
    "        best_aic_params[ts_i][\"init\"] = init_j[argmin_aic]\n",
    "\n",
    "        best_aic_params[ts_i][\"IMFs\"] = f'{begin_imfs+1} --- {end_imfs}'\n",
    "\n",
    "    bic = np.transpose(bic_list[ts_i])\n",
    "    min_bic = np.min(bic[0])\n",
    "    argmin_bic = np.argmin(bic[0])\n",
    "    begin_imfs = int(bic[1][argmin_bic])\n",
    "    end_imfs = int(bic[2][argmin_bic])\n",
    "    if (min_bic < best_metriks[ts_i][\"BIC\"]):\n",
    "        best_metriks[ts_i][\"BIC\"] = min_bic\n",
    "\n",
    "        best_bic_params[ts_i][\"alpha\"] = alpha_j[argmin_bic]\n",
    "        best_bic_params[ts_i][\"DC\"] = DC_j[argmin_bic]\n",
    "        best_bic_params[ts_i][\"init\"] = init_j[argmin_bic]\n",
    "\n",
    "        best_bic_params[ts_i][\"IMFs\"] = f'{begin_imfs+1} --- {end_imfs}'\n",
    "\n"
   ]
  },
  {
   "cell_type": "markdown",
   "metadata": {},
   "source": [
    "# метрики точности и параметры с выводом"
   ]
  },
  {
   "cell_type": "code",
   "execution_count": 12,
   "metadata": {},
   "outputs": [],
   "source": [
    "for ts_i in range(len(TS)):\n",
    "    best_metriks[ts_i][\"BIC\"] = format(best_metriks[ts_i][\"BIC\"], \".5f\")\n",
    "    best_metriks[ts_i][\"AIC\"] = format(best_metriks[ts_i][\"AIC\"], \".5f\")\n",
    "    best_metriks[ts_i][\"R2_Adj\"] = format(best_metriks[ts_i][\"R2_Adj\"], \".5f\")\n",
    "    best_metriks[ts_i][\"R2\"] = format(best_metriks[ts_i][\"R2\"], \".5f\")"
   ]
  },
  {
   "cell_type": "code",
   "execution_count": 13,
   "metadata": {},
   "outputs": [],
   "source": [
    "filename = f\"{path1}Output{path2}Best_Metriks-{Component_name}.csv\"\n",
    "\n",
    "fields = best_metriks[0].keys()\n",
    "fields = list(fields)\n",
    "\n",
    "with open(filename, mode='w', newline='') as file:\n",
    "    writer = csv.DictWriter(file, fieldnames=fields)\n",
    "    writer.writeheader()  # Write header row\n",
    "    for ts_i in range(len(TS)):\n",
    "        writer.writerows([best_metriks[ts_i]])  # Write data rows"
   ]
  },
  {
   "cell_type": "code",
   "execution_count": 14,
   "metadata": {},
   "outputs": [],
   "source": [
    "filename = f\"{path1}Output{path2}Parameters-{Component_name}.csv\"\n",
    "\n",
    "fields = best_r2_params[0].keys()\n",
    "fields = list(fields)\n",
    "\n",
    "with open(filename, mode='w', newline='') as file:\n",
    "    writer = csv.DictWriter(file, fieldnames=fields)\n",
    "    writer.writeheader()  # Write header row\n",
    "    for ts_i in range(len(TS)):\n",
    "        writer.writerows([best_r2_params[ts_i]])  # Write data rows\n",
    "        writer.writerows([best_r2_adj_params[ts_i]])  # Write data rows\n",
    "        writer.writerows([best_aic_params[ts_i]])  # Write data rows\n",
    "        writer.writerows([best_bic_params[ts_i]])  # Write data rows\n",
    "\n"
   ]
  }
 ],
 "metadata": {
  "kernelspec": {
   "display_name": "Python 3",
   "language": "python",
   "name": "python3"
  },
  "language_info": {
   "codemirror_mode": {
    "name": "ipython",
    "version": 3
   },
   "file_extension": ".py",
   "mimetype": "text/x-python",
   "name": "python",
   "nbconvert_exporter": "python",
   "pygments_lexer": "ipython3",
   "version": "3.11.9"
  }
 },
 "nbformat": 4,
 "nbformat_minor": 2
}
