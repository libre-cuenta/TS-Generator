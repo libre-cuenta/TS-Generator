{
 "cells": [
  {
   "cell_type": "code",
   "execution_count": 1,
   "metadata": {},
   "outputs": [],
   "source": [
    "import numpy as np\n",
    "import pandas as pd\n",
    "import matplotlib.pyplot as plt\n",
    "import math\n",
    "from scipy.interpolate import CubicSpline\n",
    "from itertools import product\n",
    "from sklearn.metrics import r2_score\n",
    "import csv\n",
    "from vme import VME\n",
    "import itertools"
   ]
  },
  {
   "cell_type": "code",
   "execution_count": 2,
   "metadata": {},
   "outputs": [],
   "source": [
    "# adjusted R-squared\n",
    "def r2_score_adjusted(y, y_pred, featurecount):\n",
    "    n = len(y)\n",
    "    return 1 - (1-r2_score(y, y_pred)) * (n-1)/(n-featurecount-1)\n",
    "\n",
    "# AIC\n",
    "def calculate_aic(y, y_pred, k):\n",
    "    sse = np.sum((y - y_pred) ** 2)\n",
    "    n = len(y)\n",
    "    aic = n * np.log(sse / n) + 2 * k\n",
    "    return aic\n",
    "\n",
    "# BIC\n",
    "def calculate_bic(y, y_pred, k):\n",
    "    sse = np.sum((y - y_pred) ** 2)\n",
    "    n = len(y)\n",
    "    bic = n * np.log(sse / n) + k * np.log(n)\n",
    "    return bic"
   ]
  },
  {
   "cell_type": "markdown",
   "metadata": {},
   "source": [
    "# импорт временного ряда"
   ]
  },
  {
   "cell_type": "code",
   "execution_count": 3,
   "metadata": {},
   "outputs": [],
   "source": [
    "# linux path\n",
    "path1 = './'\n",
    "path2 = '/'\n",
    "\n",
    "# windows path\n",
    "# path1 = '.\\\\'\n",
    "# path2 = '\\\\'"
   ]
  },
  {
   "cell_type": "code",
   "execution_count": 4,
   "metadata": {},
   "outputs": [],
   "source": [
    "seasonsTS = (\"s7\", \"s9\", \"s8\", \"s9\")\n",
    "\n",
    "cases = (\"t7_n21_s7_s9\", \"t7_n21_s7_s9\", \"t7_n21_s8_s9\", \"t7_n21_s8_s9\")"
   ]
  },
  {
   "cell_type": "code",
   "execution_count": 5,
   "metadata": {},
   "outputs": [],
   "source": [
    "Season = list()\n",
    "for season_i in seasonsTS:\n",
    "    s = pd.read_csv(f\"./Components/{season_i}.csv\", decimal=',')\n",
    "    season = pd.DataFrame(s, dtype=float)\n",
    "    Season.append(season['Value'])\n",
    "Component_of_TS = Season[::]\n",
    "Component_name = \"Season\"\n",
    "range_of_imfs = range(1,8)\n"
   ]
  },
  {
   "cell_type": "code",
   "execution_count": 6,
   "metadata": {},
   "outputs": [],
   "source": [
    "index = list()\n",
    "TS = list()\n",
    "\n",
    "data = pd.read_csv(f\"{path1}Cases{path2}{cases[0]}.csv\", decimal=',')\n",
    "df = pd.DataFrame(data, dtype=float)\n",
    "index = df.index\n",
    "\n",
    "for case_i in cases:\n",
    "    data = pd.read_csv(f\"{path1}Cases{path2}{case_i}.csv\", decimal=',')\n",
    "    df = pd.DataFrame(data, dtype=float)\n",
    "    TS.append(df.values)"
   ]
  },
  {
   "cell_type": "markdown",
   "metadata": {},
   "source": [
    "# тестовый анализ"
   ]
  },
  {
   "cell_type": "code",
   "execution_count": null,
   "metadata": {},
   "outputs": [],
   "source": []
  },
  {
   "cell_type": "markdown",
   "metadata": {},
   "source": [
    "# Тренд"
   ]
  },
  {
   "cell_type": "code",
   "execution_count": 45,
   "metadata": {},
   "outputs": [],
   "source": [
    "# набор параметров\n",
    "alpha = (0, 500, 1000, 2500, 5000, 7500, 10000, 15000, 20000, 25000, 30000, 35000, 40000, 45000, 50000) # moderate bandwidth constraint\n",
    "omega_init = (1, 501, 1001, 2501, 5001, 7501, 10001, 15001, 20001, 25001, 30001, 35001, 40001, 45001, 50001)\n",
    "tau = (0, 1, 2, 3, 4, 5) # noise-tolerance (no strict fidelity enforcement)\n",
    "fs = 20000\n",
    "tol = 1e-6\n",
    "\n",
    "featurecount = 5\n"
   ]
  },
  {
   "cell_type": "code",
   "execution_count": 46,
   "metadata": {},
   "outputs": [],
   "source": [
    "best_params = np.zeros((len(TS), 10), dtype=dict)\n",
    "best_metriks = np.zeros((len(TS), 4), dtype=dict)\n",
    "\n",
    "f = np.zeros((len(TS), 1500), dtype=list)\n",
    "k_i = np.zeros(len(TS), dtype=int)\n"
   ]
  },
  {
   "cell_type": "code",
   "execution_count": 48,
   "metadata": {},
   "outputs": [],
   "source": [
    "#  R2\n",
    "MetricName = \"R2\"\n",
    "calculate_metric = lambda y, y_pred: r2_score(y, y_pred)\n",
    "\n",
    "default_value = -np.inf\n",
    "maxmin = lambda criteria: np.max(criteria)\n",
    "arg_maxmin = lambda criteria: np.argmax(criteria)\n",
    "find_new_best_params = lambda max_criteria, best_metriks: max_criteria > best_metriks\n",
    "\n",
    "\n",
    "# #  R2Adj\n",
    "# MetricName = \"R2Adj\"\n",
    "# calculate_metric = lambda y, y_pred, featurecount: r2_score_adjusted(y, y_pred, featurecount)\n",
    "\n",
    "\n",
    "# #  AIC\n",
    "# MetricName = \"AIC\"\n",
    "# calculate_metric = lambda y, y_pred, k: calculate_aic(y, y_pred, k)\n",
    "\n",
    "# default_value = np.inf\n",
    "# maxmin = lambda criteria: np.min(criteria)\n",
    "# arg_maxmin = lambda criteria: np.argmin(criteria)\n",
    "# find_new_best_params = lambda max_criteria, best_metriks: max_criteria < best_metriks\n",
    "\n",
    "\n",
    "# # BIC\n",
    "# MetricName = \"BIC\"\n",
    "# calculate_metric = lambda y, y_pred, k: calculate_bic(y, y_pred, k)"
   ]
  },
  {
   "cell_type": "code",
   "execution_count": 49,
   "metadata": {},
   "outputs": [],
   "source": [
    "for i in range(len(TS)):\n",
    "    best_metriks[i][0] = {\"Time Series\": f\"TS{i+1}\", \"Component\": \"Trend\", f\"{MetricName}\": default_value}\n",
    "    best_metriks[i][1] = {\"Time Series\": f\"TS{i+1}\", \"Component\": \"Season\", \"Season\": seasonsTS[i], f\"{MetricName}\": default_value}\n",
    "    best_metriks[i][2] = {\"Time Series\": f\"TS{i+1}\", \"Component\": \"Noise\", f\"{MetricName}\": default_value}\n",
    "    best_metriks[i][3] = {\"Time Series\": f\"TS{i+1}\", \"Component\": \"Noise-freg\", f\"{MetricName}\": default_value}\n",
    "    \n",
    "    for j in range(10):\n",
    "        best_params[i][j] = {\"Time Series\": f\"TS{i+1}\", \"Season\": seasonsTS[i], \"Metric\": f\"{MetricName}\", \"Trend/Season/Noise\": None, \"IMFs\" : f\"1 - {j+1}\",  \"alpha\": 0, \"tau\": 0, \"W init\": 1}"
   ]
  },
  {
   "cell_type": "code",
   "execution_count": 50,
   "metadata": {},
   "outputs": [],
   "source": [
    "# для всех лчм\n",
    "for ts_i in range(len(TS)):\n",
    "    f[ts_i] = TS[ts_i].reshape((1500,))\n",
    "\n",
    "    u, u_hat, omega = VME(f[ts_i], 20000, 1, fs, 0, tol)\n",
    "    f[ts_i] = f[ts_i] - u.T.real"
   ]
  },
  {
   "cell_type": "markdown",
   "metadata": {},
   "source": [
    "# Сезон"
   ]
  },
  {
   "cell_type": "code",
   "execution_count": 51,
   "metadata": {},
   "outputs": [],
   "source": [
    "season_k = np.zeros(len(TS), dtype=int)\n",
    "# для всех лчм\n",
    "for ts_i in range(len(TS)):\n",
    "    season_k[ts_i] = k_i[ts_i]\n",
    "    \n",
    "    best_imfs = 0\n",
    "    sum_imfs = 0\n",
    "    isbest_params = True\n",
    "\n",
    "    while( (k_i[ts_i] < 10) and isbest_params ):\n",
    "        isbest_params = False\n",
    "\n",
    "        # для всех значений alpha\n",
    "        criteria = np.zeros(len(alpha), dtype=float)\n",
    "        j = 0          # j - индекс значения параметра\n",
    "        for alpha_i in alpha:\n",
    "            u, _, _ = VME(f[ts_i], alpha_i, omega_int=1, fs=20000, tau=1, tol=1e-6)\n",
    "\n",
    "            criteria[j] = calculate_metric(Season[ts_i], u.T.real + sum_imfs)\n",
    "            j += 1\n",
    "        \n",
    "        max_criteria = maxmin(criteria)\n",
    "        argmax_criteria = arg_maxmin(criteria)\n",
    "\n",
    "        if ( find_new_best_params(max_criteria, best_metriks[ts_i][1][f\"{MetricName}\"]) ):\n",
    "            best_metriks[ts_i][1][f\"{MetricName}\"] = max_criteria\n",
    "\n",
    "            best_params[ts_i][k_i[ts_i]][\"IMFs\"] = f'{season_k[ts_i]} --- {k_i[ts_i]}'\n",
    "            best_params[ts_i][k_i[ts_i]][\"Trend/Season/Noise\"] = \"Season\"\n",
    "            best_params[ts_i][k_i[ts_i]][\"alpha\"] = alpha[argmax_criteria]\n",
    "            \n",
    "            u, _, _ = VME(f[ts_i], best_params[ts_i][k_i[ts_i]][\"alpha\"], omega_int=1, fs=20000, tau=1, tol=1e-6)\n",
    "            best_imfs = u.T.real\n",
    "            isbest_params = True\n",
    "        \n",
    "\n",
    "        # для всех значений omega init\n",
    "        criteria = np.zeros(len(omega_init), dtype=float)\n",
    "        j = 0\n",
    "        for omega_init_i in omega_init:\n",
    "            u, _, _ = VME(f[ts_i], best_params[ts_i][k_i[ts_i]][\"alpha\"], omega_init_i, fs=20000, tau=1, tol=1e-6)\n",
    "\n",
    "            criteria[j] = calculate_metric(Season[ts_i], u.T.real + sum_imfs)\n",
    "            j += 1\n",
    "        \n",
    "        max_criteria = maxmin(criteria)\n",
    "        argmax_criteria = arg_maxmin(criteria)\n",
    "\n",
    "        if ( find_new_best_params(max_criteria, best_metriks[ts_i][1][f\"{MetricName}\"]) ):\n",
    "            best_metriks[ts_i][1][f\"{MetricName}\"] = max_criteria\n",
    "\n",
    "            best_params[ts_i][k_i[ts_i]][\"IMFs\"] = f'{season_k[ts_i]} --- {k_i[ts_i]}'\n",
    "            best_params[ts_i][k_i[ts_i]][\"Trend/Season/Noise\"] = \"Season\"\n",
    "            best_params[ts_i][k_i[ts_i]][\"W init\"] = omega_init[argmax_criteria]\n",
    "            \n",
    "            u, _, _ = VME(f[ts_i], best_params[ts_i][k_i[ts_i]][\"alpha\"], best_params[ts_i][k_i[ts_i]][\"W init\"], fs=20000, tau=1, tol=1e-6)\n",
    "            best_imfs = u.T.real\n",
    "\n",
    "\n",
    "        # для всех значений tau\n",
    "        criteria = np.zeros(len(tau), dtype=float)\n",
    "        j = 0\n",
    "        for tau_i in tau:\n",
    "            u, _, _ = VME(f[ts_i], best_params[ts_i][k_i[ts_i]][\"alpha\"], best_params[ts_i][k_i[ts_i]][\"W init\"], fs=20000, tau=tau_i, tol=1e-6)\n",
    "\n",
    "            criteria[j] = calculate_metric(Season[ts_i], u.T.real + sum_imfs)\n",
    "            j += 1\n",
    "        \n",
    "        max_criteria = maxmin(criteria)\n",
    "        argmax_criteria = arg_maxmin(criteria)\n",
    "\n",
    "        if ( find_new_best_params(max_criteria, best_metriks[ts_i][1][f\"{MetricName}\"]) ):\n",
    "            best_metriks[ts_i][1][f\"{MetricName}\"] = max_criteria\n",
    "\n",
    "            best_params[ts_i][k_i[ts_i]][\"IMFs\"] = f'{season_k[ts_i]} --- {k_i[ts_i]}'\n",
    "            best_params[ts_i][k_i[ts_i]][\"Trend/Season/Noise\"] = \"Season\"\n",
    "            best_params[ts_i][k_i[ts_i]][\"tau\"] = tau[argmax_criteria]\n",
    "            \n",
    "            u, _, _ = VME(f[ts_i], best_params[ts_i][k_i[ts_i]][\"alpha\"], best_params[ts_i][k_i[ts_i]][\"W init\"], \\\n",
    "                          fs=20000, tau=best_params[ts_i][k_i[ts_i]][\"tau\"], tol=1e-6)\n",
    "            \n",
    "            best_imfs = u.T.real\n",
    "            isbest_params = True\n",
    "        \n",
    "\n",
    "\n",
    "        k_i[ts_i]+=1\n",
    "        sum_imfs += best_imfs\n",
    "        if(isbest_params):\n",
    "            f[ts_i] = f[ts_i] - best_imfs"
   ]
  },
  {
   "cell_type": "code",
   "execution_count": 52,
   "metadata": {},
   "outputs": [],
   "source": [
    "for ts_i in range(len(TS)):\n",
    "    best_metriks[ts_i][1][f\"{MetricName}\"] = format(best_metriks[ts_i][1][f\"{MetricName}\"], \".5f\")"
   ]
  },
  {
   "cell_type": "code",
   "execution_count": 53,
   "metadata": {},
   "outputs": [
    {
     "data": {
      "text/plain": [
       "[{'Time Series': 'TS1',\n",
       "  'Season': 's7',\n",
       "  'Metric': 'R2',\n",
       "  'Trend/Season/Noise': 'Season',\n",
       "  'IMFs': '0 --- 0',\n",
       "  'alpha': 50000,\n",
       "  'tau': 0,\n",
       "  'W init': 5001},\n",
       " {'Time Series': 'TS2',\n",
       "  'Season': 's9',\n",
       "  'Metric': 'R2',\n",
       "  'Trend/Season/Noise': 'Season',\n",
       "  'IMFs': '0 --- 0',\n",
       "  'alpha': 10000,\n",
       "  'tau': 0,\n",
       "  'W init': 2501},\n",
       " {'Time Series': 'TS3',\n",
       "  'Season': 's8',\n",
       "  'Metric': 'R2',\n",
       "  'Trend/Season/Noise': 'Season',\n",
       "  'IMFs': '0 --- 0',\n",
       "  'alpha': 50000,\n",
       "  'tau': 0,\n",
       "  'W init': 20001},\n",
       " {'Time Series': 'TS4',\n",
       "  'Season': 's9',\n",
       "  'Metric': 'R2',\n",
       "  'Trend/Season/Noise': 'Season',\n",
       "  'IMFs': '0 --- 0',\n",
       "  'alpha': 40000,\n",
       "  'tau': 0,\n",
       "  'W init': 1},\n",
       " {'Time Series': 'TS4',\n",
       "  'Season': 's9',\n",
       "  'Metric': 'R2',\n",
       "  'Trend/Season/Noise': 'Season',\n",
       "  'IMFs': '0 --- 1',\n",
       "  'alpha': 25000,\n",
       "  'tau': 0,\n",
       "  'W init': 1}]"
      ]
     },
     "execution_count": 53,
     "metadata": {},
     "output_type": "execute_result"
    }
   ],
   "source": [
    "one_dimensional_best_params = list(itertools.chain(*best_params))\n",
    "\n",
    "best_params_output = [v for v in one_dimensional_best_params if not (v['Trend/Season/Noise'] is None)]\n",
    "best_params_output"
   ]
  },
  {
   "cell_type": "code",
   "execution_count": 54,
   "metadata": {},
   "outputs": [
    {
     "data": {
      "text/plain": [
       "(40,)"
      ]
     },
     "execution_count": 54,
     "metadata": {},
     "output_type": "execute_result"
    }
   ],
   "source": [
    "np.shape(one_dimensional_best_params)"
   ]
  },
  {
   "cell_type": "code",
   "execution_count": 55,
   "metadata": {},
   "outputs": [
    {
     "data": {
      "text/plain": [
       "(5,)"
      ]
     },
     "execution_count": 55,
     "metadata": {},
     "output_type": "execute_result"
    }
   ],
   "source": [
    "np.shape(best_params_output)"
   ]
  },
  {
   "cell_type": "code",
   "execution_count": 56,
   "metadata": {},
   "outputs": [],
   "source": [
    "filename=f\"./Output-VME/Parameters-{MetricName}-VME.csv\"\n",
    "\n",
    "fields = best_params[0][0].keys()\n",
    "fields = list(fields)\n",
    "\n",
    "with open(filename, mode='w', newline='') as file:\n",
    "    writer = csv.DictWriter(file, fieldnames=fields)\n",
    "    writer.writeheader()  # Write header row\n",
    "\n",
    "    writer.writerows(best_params_output)  # Write data rows"
   ]
  },
  {
   "cell_type": "markdown",
   "metadata": {},
   "source": [
    "# Вывод"
   ]
  },
  {
   "cell_type": "code",
   "execution_count": 57,
   "metadata": {},
   "outputs": [],
   "source": [
    "filename=f\"./Output-VME/Best_Metriks-{MetricName}-VME.csv\"\n",
    "\n",
    "fields = best_metriks[0][1].keys()\n",
    "fields = list(fields)\n",
    "\n",
    "with open(filename, mode='w', newline='') as file:\n",
    "    writer = csv.DictWriter(file, fieldnames=fields)\n",
    "    writer.writeheader()  # Write header row\n",
    "    for ts_i in range(len(TS)):\n",
    "        # writer.writerows([best_metriks[ts_i][0]])  # Write data rows\n",
    "        writer.writerows([best_metriks[ts_i][1]])  # Write data rows\n",
    "        # writer.writerows([best_metriks[ts_i][2]])  # Write data rows\n",
    "        # writer.writerows([best_metriks[ts_i][3]])  # Write data rows"
   ]
  }
 ],
 "metadata": {
  "kernelspec": {
   "display_name": ".venv",
   "language": "python",
   "name": "python3"
  },
  "language_info": {
   "codemirror_mode": {
    "name": "ipython",
    "version": 3
   },
   "file_extension": ".py",
   "mimetype": "text/x-python",
   "name": "python",
   "nbconvert_exporter": "python",
   "pygments_lexer": "ipython3",
   "version": "3.12.3"
  }
 },
 "nbformat": 4,
 "nbformat_minor": 2
}
